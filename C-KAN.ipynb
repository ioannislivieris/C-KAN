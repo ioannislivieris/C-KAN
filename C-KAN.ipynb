{
 "cells": [
  {
   "cell_type": "code",
   "execution_count": null,
   "metadata": {},
   "outputs": [],
   "source": [
    "%load_ext autoreload\n",
    "%autoreload 2"
   ]
  },
  {
   "cell_type": "code",
   "execution_count": null,
   "metadata": {},
   "outputs": [],
   "source": [
    "import time\n",
    "import torch\n",
    "import pandas as pd\n",
    "import matplotlib.pyplot as plt\n",
    "import numpy as np\n",
    "\n",
    "from utils.PerformanceMetrics import RegressionEvaluation\n",
    "from utils.create_dataset import create_dataset"
   ]
  },
  {
   "cell_type": "code",
   "execution_count": null,
   "metadata": {},
   "outputs": [],
   "source": [
    "class Parameters():\n",
    "    def __init__(self):\n",
    "        # Model parameters\n",
    "        # ----------------------------------------------------------------\n",
    "        # Model description\n",
    "        self.description = 'Convolutional-based Kolmogorov-Arnold network model for time-series forecasting'     \n",
    "        # Input sequence length - look-back\n",
    "        self.Lag = 12\n",
    "        # Prediction sequence length\n",
    "        self.Horizon = 4\n",
    "        # Parameters\n",
    "        self.Conv_parameters = {'out_channels': ..., 'kernel_size': ..., 'stride': ..., 'padding': ...}\n",
    "        self.steps = ...\n",
    "        self.width = [6, 3, self.Horizon]\n",
    "        self.grid = ...\n",
    "        self.k=...\n",
    "        self.lr=...\n",
    "        self.lamb=...\n",
    "        self.lamb_l1=...\n",
    "        self.lamb_entropy=...\n",
    "        # Device {'cpu', 'cuda:0'}\n",
    "        self.device = \"cuda:0\"\n",
    "\n",
    "args = Parameters()"
   ]
  },
  {
   "cell_type": "markdown",
   "metadata": {},
   "source": [
    "### Data"
   ]
  },
  {
   "cell_type": "code",
   "execution_count": null,
   "metadata": {},
   "outputs": [],
   "source": [
    "# Start timer\n",
    "start = time.time()\n",
    "\n",
    "# Load data\n",
    "df = pd.read_csv(\"data/BTC-USD.csv\")[[\"Date\", \"Close\"]]\n",
    "# Pre-process data (Log-series to reduce volatility)\n",
    "df[\"Close\"] = np.log(df[\"Close\"])\n",
    "# Convert Date to 'datetime64'\n",
    "df['Date'] = df['Date'].astype('datetime64[ns]')\n",
    "# Set index\n",
    "df.set_index('Date', inplace=True)\n",
    "print('[INFO] Data imported')\n",
    "print('[INFO] Time: %.2f seconds' % (time.time() - start))\n",
    "\n",
    "# Split Train/Test\n",
    "idx = int( df.shape[0] * 0.8 )\n",
    "df_train = df[:idx].dropna()\n",
    "df_test  = df[idx:].dropna()\n",
    "\n",
    "# Visualization\n",
    "fig, ax = plt.subplots(nrows = 1, ncols = 1, figsize=(20, 3) )\n",
    "df_train[\"Close\"].plot(ax=ax, color='tab:blue' )\n",
    "df_test[\"Close\"].plot(ax=ax,  color='tab:orange')\n",
    "plt.legend(['Training', 'Testing'], frameon = False, fontsize = 14)\n",
    "plt.ylabel(\"Road_occupancy_rates\", size = 14)\n",
    "plt.xlabel('Date', size = 14);\n",
    "plt.xticks(size = 12);\n",
    "plt.yticks(size = 12);"
   ]
  },
  {
   "cell_type": "code",
   "execution_count": null,
   "metadata": {},
   "outputs": [],
   "source": [
    "trainX, trainY, _ = create_dataset(df = df_train, \n",
    "                                   Lag = args.Lag, \n",
    "                                   Horizon = args.Horizon, \n",
    "                                   overlap = 1)\n",
    "                               \n",
    "testX,  testY, testDate  = create_dataset(df = df_test, \n",
    "                                          Lag = args.Lag, \n",
    "                                          Horizon = args.Horizon, \n",
    "                                          overlap = args.Horizon)\n",
    "\n",
    "# Resizing\n",
    "trainY = trainY.squeeze(-1)\n",
    "testY = testY.squeeze(-1)\n",
    "trainX = trainX.transpose(0, 2, 1)\n",
    "testX = testX.transpose(0, 2, 1)\n",
    "\n",
    "# Last 10% of the training data will be used for validation\n",
    "#\n",
    "idx = int(0.8 * trainX.shape[0])\n",
    "validX, validY = trainX[idx:], trainY[idx:]\n",
    "trainX, trainY = trainX[:idx], trainY[:idx]\n",
    "\n",
    "\n",
    "\n",
    "print('Training data shape:   ', trainX.shape, trainY.shape)\n",
    "print('Validation data shape: ', validX.shape, validY.shape)\n",
    "print('Testing data shape:    ', testX.shape,  testY.shape)\n",
    "    \n",
    "dataset = dict()\n",
    "dataset['train_input'] = torch.from_numpy(trainX).float().to(args.device)\n",
    "dataset['test_input'] = torch.from_numpy(testX).float().to(args.device)\n",
    "dataset['train_label'] = torch.from_numpy(trainY).float().to(args.device)\n",
    "dataset['test_label'] = torch.from_numpy(testY).float().to(args.device)"
   ]
  },
  {
   "cell_type": "markdown",
   "metadata": {},
   "source": [
    "### Model"
   ]
  },
  {
   "cell_type": "code",
   "execution_count": null,
   "metadata": {},
   "outputs": [],
   "source": [
    "from kan import CKAN\n",
    "from utils.dilate_loss import dilate_loss\n",
    "def loss_fn(x, y):\n",
    "    loss, _, _ = dilate_loss(x.unsqueeze(-1), y.unsqueeze(-1), alpha=0.9, gamma=0.1, device=args.device)\n",
    "    return loss\n",
    "\n",
    "model = CKAN(Lag=args.Lag, Conv_parameters=args.Conv_parameters, width=args.width, grid=args.grid, k=args.k, device=args.device)\n",
    "results = model.train(dataset, opt=\"LBFGS\", lr=args.lr, steps=args.steps, lamb=args.lamb, lamb_l1=args.lamb_l1, lamb_entropy=args.lamb_entropy, device=args.device, save_fig=False, loss_fn=loss_fn);"
   ]
  },
  {
   "cell_type": "code",
   "execution_count": null,
   "metadata": {},
   "outputs": [],
   "source": [
    "fig, ax = plt.subplots(nrows=1, ncols = 3, figsize=(15, 2))\n",
    "\n",
    "# Train & Test Losses\n",
    "ax[0].plot(results['train_loss'], marker=\"o\", label=\"Train loss\")\n",
    "ax[0].plot(results['test_loss'], marker=\"o\", label=\"Test loss\")\n",
    "ax[0].legend(frameon=False);\n",
    "\n",
    "# RMSE (test)\n",
    "ax[1].plot(results['test_RMSE'], marker=\"o\", color='g', label=\"RMSE (test)\")\n",
    "ax[1].legend(frameon=False);\n",
    "\n",
    "# R2 (test)\n",
    "ax[2].plot(results['test_R2'], marker=\"o\", color='g', label=\"R2 (test)\")\n",
    "ax[2].legend(frameon=False);"
   ]
  },
  {
   "cell_type": "markdown",
   "metadata": {},
   "source": [
    "### Evaluation"
   ]
  },
  {
   "cell_type": "code",
   "execution_count": null,
   "metadata": {},
   "outputs": [],
   "source": [
    "# Get predictions\n",
    "pred = model(torch.tensor(testX).float()).cpu().detach().numpy()\n",
    "\n",
    "# Inverse-Transformation\n",
    "testY, pred = np.exp(testY), np.exp(pred)\n",
    "\n",
    "# Evaluation \n",
    "MAE, RMSE, MAPE, SMAPE, Hausdorff_score, ramp_score, R2 = RegressionEvaluation(testY.flatten(), pred.flatten())\n",
    "print('MAE %5.2f | RMSE %5.2f | SMAPE: %5.2f | Hausdorff_score: %5.2f | Ramp_score: %5.2f | R2: %.2f' % (MAE, RMSE, SMAPE, Hausdorff_score, ramp_score, R2) )"
   ]
  }
 ],
 "metadata": {
  "kernelspec": {
   "display_name": ".venv",
   "language": "python",
   "name": "python3"
  },
  "language_info": {
   "codemirror_mode": {
    "name": "ipython",
    "version": 3
   },
   "file_extension": ".py",
   "mimetype": "text/x-python",
   "name": "python",
   "nbconvert_exporter": "python",
   "pygments_lexer": "ipython3",
   "version": "3.10.12"
  }
 },
 "nbformat": 4,
 "nbformat_minor": 2
}
